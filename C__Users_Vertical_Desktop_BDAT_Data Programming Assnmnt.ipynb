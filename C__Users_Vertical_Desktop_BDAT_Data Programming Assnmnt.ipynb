{
 "cells": [
  {
   "cell_type": "markdown",
   "id": "303c4ca3",
   "metadata": {},
   "source": [
    "Question #1\n",
    "\n",
    "Here's the data type for each of the following expressions in C#:\n",
    "\n",
    "5\n",
    "\n",
    "Data Type: int\n",
    "5.0\n",
    "\n",
    "Data Type: double\n",
    "5 > 1\n",
    "\n",
    "Data Type: bool\n",
    "'5'\n",
    "\n",
    "Data Type: char\n",
    "5 * 2\n",
    "\n",
    "Data Type: int\n",
    "'5' * 2\n",
    "\n",
    "Data Type: string\n",
    "'5' + '2'\n",
    "\n",
    "Data Type: string\n",
    "5 / 2\n",
    "\n",
    "Data Type: int\n",
    "5 % 2\n",
    "\n",
    "Data Type: int\n",
    "{5, 2, 1}\n",
    "\n",
    "Data Type: array (array of integers)\n",
    "5 == 3\n",
    "\n",
    "Data Type: bool\n",
    "Pi (the number)\n",
    "\n",
    "Data Type: double\n"
   ]
  },
  {
   "cell_type": "code",
   "execution_count": 3,
   "id": "4d4e556f",
   "metadata": {},
   "outputs": [
    {
     "name": "stdout",
     "output_type": "stream",
     "text": [
      "The word Supercalifragilisticexpialidocious contains 34 letters\r\n"
     ]
    }
   ],
   "source": [
    "// Question #2 a\n",
    "string word = \"Supercalifragilisticexpialidocious\";\n",
    "\n",
    "// Number of letters in string is equal to length of the string\n",
    "\n",
    "int letterCount = word.Length; \n",
    "Console.WriteLine($\"The word {word} contains {letterCount} letters\");\n"
   ]
  },
  {
   "cell_type": "code",
   "execution_count": 2,
   "id": "4144f9dc",
   "metadata": {},
   "outputs": [
    {
     "name": "stdout",
     "output_type": "stream",
     "text": [
      "True\r\n"
     ]
    }
   ],
   "source": [
    "// Question #2 b\n",
    "string word = \"Supercalifragilisticexpialidocious\";\n",
    "\n",
    "// Checking whether 'ice' is substring of the given string\n",
    "\n",
    "bool containsIce = word.Contains(\"ice\");\n",
    "Console.WriteLine(containsIce);\n"
   ]
  },
  {
   "cell_type": "code",
   "execution_count": 4,
   "id": "493f732a",
   "metadata": {},
   "outputs": [
    {
     "name": "stdout",
     "output_type": "stream",
     "text": [
      "Bababadalgharaghtakamminarronnkonn is the longest word\r\n"
     ]
    }
   ],
   "source": [
    "// Question #2c\n",
    "string word1 = \"Supercalifragilisticexpialidocious\";\n",
    "string word2 = \"Honorificabilitudinitatibus\";\n",
    "string word3 = \"Bababadalgharaghtakamminarronnkonn\";\n",
    "\n",
    "string longestWord = \"\";\n",
    "\n",
    "//Comparing the lenths of the strings\n",
    "\n",
    "if (word1.Length > word2.Length && word1.Length > word3.Length)\n",
    "    longestWord = word1;\n",
    "else if (word2.Length > word1.Length && word2.Length > word3.Length)\n",
    "    longestWord = word2;\n",
    "else\n",
    "    longestWord = word3;\n",
    "\n",
    "Console.WriteLine($\"{longestWord} is the longest word\");\n"
   ]
  },
  {
   "cell_type": "code",
   "execution_count": 5,
   "id": "d982825c",
   "metadata": {},
   "outputs": [
    {
     "name": "stdout",
     "output_type": "stream",
     "text": [
      "First Composer: Bartok\n",
      "Last Composer: Buxtehude\n"
     ]
    }
   ],
   "source": [
    "// Question #2 d\n",
    "\n",
    "string[] composers = { \"Berlioz\", \"Borodin\", \"Brian\", \"Bartok\", \"Bellini\", \"Buxtehude\", \"Bernstein\" };\n",
    "\n",
    "        Array.Sort(composers, String.Compare);\n",
    "\n",
    "        string firstComposer = composers[0];\n",
    "        string lastComposer = composers[composers.Length - 1];\n",
    "\n",
    "        Console.WriteLine(\"First Composer: \" + firstComposer);\n",
    "        Console.WriteLine(\"Last Composer: \" + lastComposer);"
   ]
  },
  {
   "cell_type": "code",
   "execution_count": 4,
   "id": "ac9d4358",
   "metadata": {},
   "outputs": [],
   "source": [
    "// Question # 3\n",
    "\n",
    "    static double triangleArea(double a, double b, double c)\n",
    "    {\n",
    "        //Defining 's'\n",
    "        \n",
    "        double s = (a + b + c) / 2;\n",
    "        \n",
    "        //Defining formula for area\n",
    "        \n",
    "        double area = Math.Sqrt(s * (s - a) * (s - b) * (s - c));\n",
    "        Console.WriteLine(area);\n",
    "        return area;\n",
    "    }\n",
    "        "
   ]
  },
  {
   "cell_type": "code",
   "execution_count": 5,
   "id": "97feb43e",
   "metadata": {},
   "outputs": [
    {
     "name": "stdout",
     "output_type": "stream",
     "text": [
      "1.7320508075688772\r\n"
     ]
    }
   ],
   "source": [
    "triangleArea(2, 2, 2);\n",
    "        \n"
   ]
  },
  {
   "cell_type": "code",
   "execution_count": 8,
   "id": "552a59a6",
   "metadata": {},
   "outputs": [
    {
     "name": "stderr",
     "output_type": "stream",
     "text": [
      "\r\n",
      "(7,24): warning CS7022: The entry point of the program is global code; ignoring 'Program.Main()' entry point.\r\n",
      "\r\n"
     ]
    }
   ],
   "source": [
    "// Question #4\n",
    "\n",
    "using System;\n",
    "\n",
    "public class Program\n",
    "{\n",
    "    public static void Main()\n",
    "    {\n",
    "        Console.Write(\"Input the number of elements to be stored in the array: \");\n",
    "        int count = int.Parse(Console.ReadLine());\n",
    "\n",
    "        int[] arr = new int[count];\n",
    "        int[] evenArr = new int[count];\n",
    "        int[] oddArr = new int[count];\n",
    "        int evenCount = 0;\n",
    "        int oddCount = 0;\n",
    "\n",
    "        Console.WriteLine(\"Input {0} elements in the array:\", count);\n",
    "        for (int i = 0; i < count; i++)\n",
    "        {\n",
    "            Console.Write(\"element - {0} : \", i);\n",
    "            arr[i] = int.Parse(Console.ReadLine());\n",
    "        }\n",
    "\n",
    "        foreach (int num in arr)\n",
    "        {\n",
    "            \n",
    "            //Checking whether the number is Even\n",
    "            \n",
    "            if (num % 2 == 0)\n",
    "            {\n",
    "                evenArr[evenCount] = num;\n",
    "                evenCount++;\n",
    "            }\n",
    "            \n",
    "            //Checking whether the number is Even\n",
    "            \n",
    "            else\n",
    "            {\n",
    "                oddArr[oddCount] = num;\n",
    "                oddCount++;\n",
    "            }\n",
    "        }\n",
    "        \n",
    "        \n",
    "        //  Printing Even numbers\n",
    "        \n",
    "        Console.WriteLine(\"The Even elements are:\");\n",
    "        for (int i = 0; i < evenCount; i++)\n",
    "        {\n",
    "            Console.Write(evenArr[i] + \" \");\n",
    "        }\n",
    "        \n",
    "        //Printing Odd numbers\n",
    "        \n",
    "        Console.WriteLine();\n",
    "\n",
    "        Console.WriteLine(\"The Odd elements are:\");\n",
    "        for (int i = 0; i < oddCount; i++)\n",
    "        {\n",
    "            Console.Write(oddArr[i] + \" \");\n",
    "        }\n",
    "    }\n",
    "}\n"
   ]
  },
  {
   "cell_type": "code",
   "execution_count": 13,
   "id": "8b798946",
   "metadata": {},
   "outputs": [],
   "source": [
    "// Question #5 a\n",
    "\n",
    "  public static bool inside(double x, double y, double x1, double y1, double x2, double y2)\n",
    "    {\n",
    "        bool isInside = false;\n",
    "        \n",
    "        //Checking all the conditions using Identity Operators\n",
    "      \n",
    "        if (x >= x1 && x <= x2 && y >= y1 && y <= y2)\n",
    "        {\n",
    "            isInside = true;\n",
    "        }\n",
    "       \n",
    "      //Printing the result\n",
    "      \n",
    "        Console.WriteLine(isInside);\n",
    "        return isInside;\n",
    "    }\n"
   ]
  },
  {
   "cell_type": "code",
   "execution_count": 14,
   "id": "a9fc52b5",
   "metadata": {},
   "outputs": [
    {
     "name": "stdout",
     "output_type": "stream",
     "text": [
      "True\r\n"
     ]
    }
   ],
   "source": [
    "inside(1, 1, 0, 0, 2, 3);"
   ]
  },
  {
   "cell_type": "code",
   "execution_count": 15,
   "id": "1d155d68",
   "metadata": {},
   "outputs": [
    {
     "name": "stdout",
     "output_type": "stream",
     "text": [
      "False\r\n"
     ]
    }
   ],
   "source": [
    "inside(-1,-1,0,0,2,3);"
   ]
  },
  {
   "cell_type": "code",
   "execution_count": 16,
   "id": "5948d487",
   "metadata": {},
   "outputs": [
    {
     "name": "stdout",
     "output_type": "stream",
     "text": [
      "False\n",
      "False\n"
     ]
    }
   ],
   "source": [
    "// Question #5 b\n",
    "bool isInsideBothRectangles = inside(1, 1, 0.3, 0.5, 1.1, 0.7) && inside(1, 1, 0.5, 0.2, 1.1, 2);\n",
    "        Console.WriteLine(isInsideBothRectangles);"
   ]
  },
  {
   "cell_type": "code",
   "execution_count": 1,
   "id": "d6f5017c",
   "metadata": {},
   "outputs": [],
   "source": [
    "#6\n",
    "\n",
    "def pig(word):\n",
    "    word = word.lower()  # Convert word to lowercase\n",
    "    vowels = ['a', 'e', 'i', 'o', 'u']\n",
    "\n",
    "    if word[0] in vowels:\n",
    "        return word + 'way'\n",
    "    else:\n",
    "        return word[1:] + word[0] + 'ay'\n"
   ]
  },
  {
   "cell_type": "code",
   "execution_count": 2,
   "id": "cb1be622",
   "metadata": {},
   "outputs": [
    {
     "name": "stdout",
     "output_type": "stream",
     "text": [
      "appyhay\n"
     ]
    }
   ],
   "source": [
    "print(pig('happy'))  # Output: 'appyhay'\n"
   ]
  },
  {
   "cell_type": "code",
   "execution_count": 3,
   "id": "6f9b3469",
   "metadata": {},
   "outputs": [
    {
     "name": "stdout",
     "output_type": "stream",
     "text": [
      "enterway\n"
     ]
    }
   ],
   "source": [
    "print(pig('Enter'))  # Output: 'enterway'"
   ]
  },
  {
   "cell_type": "code",
   "execution_count": 4,
   "id": "9a0a5dab",
   "metadata": {},
   "outputs": [],
   "source": [
    "# Question #7\n",
    "\n",
    "def bldcount(filename):\n",
    "    blood_types = {\n",
    "        'A': 0,\n",
    "        'B': 0,\n",
    "        'AB': 0,\n",
    "        'O': 0,\n",
    "        'OO': 0\n",
    "    }\n",
    "\n",
    "    with open(filename, 'r') as file:\n",
    "        data = file.read().split()\n",
    "\n",
    "        for blood_type in data:\n",
    "            blood_types[blood_type] += 1\n",
    "\n",
    "    for blood_type, count in blood_types.items():\n",
    "        if count == 1:\n",
    "            print(\"There is one patient of blood type\", blood_type + \".\")\n",
    "        else:\n",
    "            print(\"There are\", count, \"patients of blood type\", blood_type + \".\")"
   ]
  },
  {
   "cell_type": "code",
   "execution_count": 5,
   "id": "2037cf5d",
   "metadata": {},
   "outputs": [
    {
     "ename": "FileNotFoundError",
     "evalue": "[Errno 2] No such file or directory: 'bloodtype1.txt'",
     "output_type": "error",
     "traceback": [
      "\u001b[1;31m---------------------------------------------------------------------------\u001b[0m",
      "\u001b[1;31mFileNotFoundError\u001b[0m                         Traceback (most recent call last)",
      "Cell \u001b[1;32mIn[5], line 2\u001b[0m\n\u001b[0;32m      1\u001b[0m filename \u001b[38;5;241m=\u001b[39m \u001b[38;5;124m'\u001b[39m\u001b[38;5;124mbloodtype1.txt\u001b[39m\u001b[38;5;124m'\u001b[39m\n\u001b[1;32m----> 2\u001b[0m \u001b[43mbldcount\u001b[49m\u001b[43m(\u001b[49m\u001b[43mfilename\u001b[49m\u001b[43m)\u001b[49m\n",
      "Cell \u001b[1;32mIn[4], line 12\u001b[0m, in \u001b[0;36mbldcount\u001b[1;34m(filename)\u001b[0m\n\u001b[0;32m      3\u001b[0m \u001b[38;5;28;01mdef\u001b[39;00m \u001b[38;5;21mbldcount\u001b[39m(filename):\n\u001b[0;32m      4\u001b[0m     blood_types \u001b[38;5;241m=\u001b[39m {\n\u001b[0;32m      5\u001b[0m         \u001b[38;5;124m'\u001b[39m\u001b[38;5;124mA\u001b[39m\u001b[38;5;124m'\u001b[39m: \u001b[38;5;241m0\u001b[39m,\n\u001b[0;32m      6\u001b[0m         \u001b[38;5;124m'\u001b[39m\u001b[38;5;124mB\u001b[39m\u001b[38;5;124m'\u001b[39m: \u001b[38;5;241m0\u001b[39m,\n\u001b[1;32m   (...)\u001b[0m\n\u001b[0;32m      9\u001b[0m         \u001b[38;5;124m'\u001b[39m\u001b[38;5;124mOO\u001b[39m\u001b[38;5;124m'\u001b[39m: \u001b[38;5;241m0\u001b[39m\n\u001b[0;32m     10\u001b[0m     }\n\u001b[1;32m---> 12\u001b[0m     \u001b[38;5;28;01mwith\u001b[39;00m \u001b[38;5;28;43mopen\u001b[39;49m\u001b[43m(\u001b[49m\u001b[43mfilename\u001b[49m\u001b[43m,\u001b[49m\u001b[43m \u001b[49m\u001b[38;5;124;43m'\u001b[39;49m\u001b[38;5;124;43mr\u001b[39;49m\u001b[38;5;124;43m'\u001b[39;49m\u001b[43m)\u001b[49m \u001b[38;5;28;01mas\u001b[39;00m file:\n\u001b[0;32m     13\u001b[0m         data \u001b[38;5;241m=\u001b[39m file\u001b[38;5;241m.\u001b[39mread()\u001b[38;5;241m.\u001b[39msplit()\n\u001b[0;32m     15\u001b[0m         \u001b[38;5;28;01mfor\u001b[39;00m blood_type \u001b[38;5;129;01min\u001b[39;00m data:\n",
      "File \u001b[1;32mc:\\program files\\python38\\lib\\site-packages\\IPython\\core\\interactiveshell.py:284\u001b[0m, in \u001b[0;36m_modified_open\u001b[1;34m(file, *args, **kwargs)\u001b[0m\n\u001b[0;32m    277\u001b[0m \u001b[38;5;28;01mif\u001b[39;00m file \u001b[38;5;129;01min\u001b[39;00m {\u001b[38;5;241m0\u001b[39m, \u001b[38;5;241m1\u001b[39m, \u001b[38;5;241m2\u001b[39m}:\n\u001b[0;32m    278\u001b[0m     \u001b[38;5;28;01mraise\u001b[39;00m \u001b[38;5;167;01mValueError\u001b[39;00m(\n\u001b[0;32m    279\u001b[0m         \u001b[38;5;124mf\u001b[39m\u001b[38;5;124m\"\u001b[39m\u001b[38;5;124mIPython won\u001b[39m\u001b[38;5;124m'\u001b[39m\u001b[38;5;124mt let you open fd=\u001b[39m\u001b[38;5;132;01m{\u001b[39;00mfile\u001b[38;5;132;01m}\u001b[39;00m\u001b[38;5;124m by default \u001b[39m\u001b[38;5;124m\"\u001b[39m\n\u001b[0;32m    280\u001b[0m         \u001b[38;5;124m\"\u001b[39m\u001b[38;5;124mas it is likely to crash IPython. If you know what you are doing, \u001b[39m\u001b[38;5;124m\"\u001b[39m\n\u001b[0;32m    281\u001b[0m         \u001b[38;5;124m\"\u001b[39m\u001b[38;5;124myou can use builtins\u001b[39m\u001b[38;5;124m'\u001b[39m\u001b[38;5;124m open.\u001b[39m\u001b[38;5;124m\"\u001b[39m\n\u001b[0;32m    282\u001b[0m     )\n\u001b[1;32m--> 284\u001b[0m \u001b[38;5;28;01mreturn\u001b[39;00m \u001b[43mio_open\u001b[49m\u001b[43m(\u001b[49m\u001b[43mfile\u001b[49m\u001b[43m,\u001b[49m\u001b[43m \u001b[49m\u001b[38;5;241;43m*\u001b[39;49m\u001b[43margs\u001b[49m\u001b[43m,\u001b[49m\u001b[43m \u001b[49m\u001b[38;5;241;43m*\u001b[39;49m\u001b[38;5;241;43m*\u001b[39;49m\u001b[43mkwargs\u001b[49m\u001b[43m)\u001b[49m\n",
      "\u001b[1;31mFileNotFoundError\u001b[0m: [Errno 2] No such file or directory: 'bloodtype1.txt'"
     ]
    }
   ],
   "source": [
    "filename = 'bloodtype1.txt'\n",
    "bldcount(filename)\n",
    "\n",
    "# The text file bloodtype1.txt can not be added to the Jupyter Notebook that is why thw error is"
   ]
  },
  {
   "cell_type": "code",
   "execution_count": 6,
   "id": "87e9ff51",
   "metadata": {},
   "outputs": [
    {
     "ename": "FileNotFoundError",
     "evalue": "[Errno 2] No such file or directory: 'currencies.txt'",
     "output_type": "error",
     "traceback": [
      "\u001b[1;31m---------------------------------------------------------------------------\u001b[0m",
      "\u001b[1;31mFileNotFoundError\u001b[0m                         Traceback (most recent call last)",
      "Cell \u001b[1;32mIn[6], line 14\u001b[0m\n\u001b[0;32m     12\u001b[0m     \u001b[38;5;28;01melse\u001b[39;00m:\n\u001b[0;32m     13\u001b[0m         \u001b[38;5;28;01mreturn\u001b[39;00m \u001b[38;5;124m\"\u001b[39m\u001b[38;5;124mCurrency not found in the conversion rates.\u001b[39m\u001b[38;5;124m\"\u001b[39m\n\u001b[1;32m---> 14\u001b[0m \u001b[38;5;28mprint\u001b[39m(\u001b[43mcurconv\u001b[49m\u001b[43m(\u001b[49m\u001b[38;5;124;43m'\u001b[39;49m\u001b[38;5;124;43mJPY\u001b[39;49m\u001b[38;5;124;43m'\u001b[39;49m\u001b[43m,\u001b[49m\u001b[43m \u001b[49m\u001b[38;5;241;43m100\u001b[39;49m\u001b[43m)\u001b[49m)\n",
      "Cell \u001b[1;32mIn[6], line 4\u001b[0m, in \u001b[0;36mcurconv\u001b[1;34m(currency, amount)\u001b[0m\n\u001b[0;32m      2\u001b[0m \u001b[38;5;28;01mdef\u001b[39;00m \u001b[38;5;21mcurconv\u001b[39m(currency, amount):\n\u001b[0;32m      3\u001b[0m     rates \u001b[38;5;241m=\u001b[39m {}\n\u001b[1;32m----> 4\u001b[0m     \u001b[38;5;28;01mwith\u001b[39;00m \u001b[38;5;28;43mopen\u001b[39;49m\u001b[43m(\u001b[49m\u001b[38;5;124;43m'\u001b[39;49m\u001b[38;5;124;43mcurrencies.txt\u001b[39;49m\u001b[38;5;124;43m'\u001b[39;49m\u001b[43m,\u001b[49m\u001b[43m \u001b[49m\u001b[38;5;124;43m'\u001b[39;49m\u001b[38;5;124;43mr\u001b[39;49m\u001b[38;5;124;43m'\u001b[39;49m\u001b[43m)\u001b[49m \u001b[38;5;28;01mas\u001b[39;00m file:\n\u001b[0;32m      5\u001b[0m         \u001b[38;5;28;01mfor\u001b[39;00m line \u001b[38;5;129;01min\u001b[39;00m file:\n\u001b[0;32m      6\u001b[0m             code, rate, _ \u001b[38;5;241m=\u001b[39m line\u001b[38;5;241m.\u001b[39msplit()\n",
      "File \u001b[1;32mc:\\program files\\python38\\lib\\site-packages\\IPython\\core\\interactiveshell.py:284\u001b[0m, in \u001b[0;36m_modified_open\u001b[1;34m(file, *args, **kwargs)\u001b[0m\n\u001b[0;32m    277\u001b[0m \u001b[38;5;28;01mif\u001b[39;00m file \u001b[38;5;129;01min\u001b[39;00m {\u001b[38;5;241m0\u001b[39m, \u001b[38;5;241m1\u001b[39m, \u001b[38;5;241m2\u001b[39m}:\n\u001b[0;32m    278\u001b[0m     \u001b[38;5;28;01mraise\u001b[39;00m \u001b[38;5;167;01mValueError\u001b[39;00m(\n\u001b[0;32m    279\u001b[0m         \u001b[38;5;124mf\u001b[39m\u001b[38;5;124m\"\u001b[39m\u001b[38;5;124mIPython won\u001b[39m\u001b[38;5;124m'\u001b[39m\u001b[38;5;124mt let you open fd=\u001b[39m\u001b[38;5;132;01m{\u001b[39;00mfile\u001b[38;5;132;01m}\u001b[39;00m\u001b[38;5;124m by default \u001b[39m\u001b[38;5;124m\"\u001b[39m\n\u001b[0;32m    280\u001b[0m         \u001b[38;5;124m\"\u001b[39m\u001b[38;5;124mas it is likely to crash IPython. If you know what you are doing, \u001b[39m\u001b[38;5;124m\"\u001b[39m\n\u001b[0;32m    281\u001b[0m         \u001b[38;5;124m\"\u001b[39m\u001b[38;5;124myou can use builtins\u001b[39m\u001b[38;5;124m'\u001b[39m\u001b[38;5;124m open.\u001b[39m\u001b[38;5;124m\"\u001b[39m\n\u001b[0;32m    282\u001b[0m     )\n\u001b[1;32m--> 284\u001b[0m \u001b[38;5;28;01mreturn\u001b[39;00m \u001b[43mio_open\u001b[49m\u001b[43m(\u001b[49m\u001b[43mfile\u001b[49m\u001b[43m,\u001b[49m\u001b[43m \u001b[49m\u001b[38;5;241;43m*\u001b[39;49m\u001b[43margs\u001b[49m\u001b[43m,\u001b[49m\u001b[43m \u001b[49m\u001b[38;5;241;43m*\u001b[39;49m\u001b[38;5;241;43m*\u001b[39;49m\u001b[43mkwargs\u001b[49m\u001b[43m)\u001b[49m\n",
      "\u001b[1;31mFileNotFoundError\u001b[0m: [Errno 2] No such file or directory: 'currencies.txt'"
     ]
    }
   ],
   "source": [
    "# Question #8\n",
    "def curconv(currency, amount):\n",
    "    rates = {}\n",
    "    with open('currencies.txt', 'r') as file:\n",
    "        for line in file:\n",
    "            code, rate, _ = line.split() # Splitting line wise\n",
    "            rates[code] = float(rate)\n",
    "\n",
    "    if currency in rates:\n",
    "        usd_amount = amount * rates[currency]\n",
    "        return usd_amount\n",
    "    else:\n",
    "        return \"Currency not found in the conversion rates.\"\n",
    "print(curconv('JPY', 100))\n",
    "\n",
    "# The text file currencies.txt can not be added to the Jupyter Notebook that is why thw error is"
   ]
  },
  {
   "cell_type": "code",
   "execution_count": 7,
   "id": "a8b197dd",
   "metadata": {},
   "outputs": [
    {
     "ename": "FileNotFoundError",
     "evalue": "[Errno 2] No such file or directory: 'currencies.txt'",
     "output_type": "error",
     "traceback": [
      "\u001b[1;31m---------------------------------------------------------------------------\u001b[0m",
      "\u001b[1;31mFileNotFoundError\u001b[0m                         Traceback (most recent call last)",
      "Cell \u001b[1;32mIn[7], line 1\u001b[0m\n\u001b[1;32m----> 1\u001b[0m \u001b[38;5;28mprint\u001b[39m(\u001b[43mcurconv\u001b[49m\u001b[43m(\u001b[49m\u001b[38;5;124;43m'\u001b[39;49m\u001b[38;5;124;43mEUR\u001b[39;49m\u001b[38;5;124;43m'\u001b[39;49m\u001b[43m,\u001b[49m\u001b[43m \u001b[49m\u001b[38;5;241;43m100\u001b[39;49m\u001b[43m)\u001b[49m)\n",
      "Cell \u001b[1;32mIn[6], line 4\u001b[0m, in \u001b[0;36mcurconv\u001b[1;34m(currency, amount)\u001b[0m\n\u001b[0;32m      2\u001b[0m \u001b[38;5;28;01mdef\u001b[39;00m \u001b[38;5;21mcurconv\u001b[39m(currency, amount):\n\u001b[0;32m      3\u001b[0m     rates \u001b[38;5;241m=\u001b[39m {}\n\u001b[1;32m----> 4\u001b[0m     \u001b[38;5;28;01mwith\u001b[39;00m \u001b[38;5;28;43mopen\u001b[39;49m\u001b[43m(\u001b[49m\u001b[38;5;124;43m'\u001b[39;49m\u001b[38;5;124;43mcurrencies.txt\u001b[39;49m\u001b[38;5;124;43m'\u001b[39;49m\u001b[43m,\u001b[49m\u001b[43m \u001b[49m\u001b[38;5;124;43m'\u001b[39;49m\u001b[38;5;124;43mr\u001b[39;49m\u001b[38;5;124;43m'\u001b[39;49m\u001b[43m)\u001b[49m \u001b[38;5;28;01mas\u001b[39;00m file:\n\u001b[0;32m      5\u001b[0m         \u001b[38;5;28;01mfor\u001b[39;00m line \u001b[38;5;129;01min\u001b[39;00m file:\n\u001b[0;32m      6\u001b[0m             code, rate, _ \u001b[38;5;241m=\u001b[39m line\u001b[38;5;241m.\u001b[39msplit()\n",
      "File \u001b[1;32mc:\\program files\\python38\\lib\\site-packages\\IPython\\core\\interactiveshell.py:284\u001b[0m, in \u001b[0;36m_modified_open\u001b[1;34m(file, *args, **kwargs)\u001b[0m\n\u001b[0;32m    277\u001b[0m \u001b[38;5;28;01mif\u001b[39;00m file \u001b[38;5;129;01min\u001b[39;00m {\u001b[38;5;241m0\u001b[39m, \u001b[38;5;241m1\u001b[39m, \u001b[38;5;241m2\u001b[39m}:\n\u001b[0;32m    278\u001b[0m     \u001b[38;5;28;01mraise\u001b[39;00m \u001b[38;5;167;01mValueError\u001b[39;00m(\n\u001b[0;32m    279\u001b[0m         \u001b[38;5;124mf\u001b[39m\u001b[38;5;124m\"\u001b[39m\u001b[38;5;124mIPython won\u001b[39m\u001b[38;5;124m'\u001b[39m\u001b[38;5;124mt let you open fd=\u001b[39m\u001b[38;5;132;01m{\u001b[39;00mfile\u001b[38;5;132;01m}\u001b[39;00m\u001b[38;5;124m by default \u001b[39m\u001b[38;5;124m\"\u001b[39m\n\u001b[0;32m    280\u001b[0m         \u001b[38;5;124m\"\u001b[39m\u001b[38;5;124mas it is likely to crash IPython. If you know what you are doing, \u001b[39m\u001b[38;5;124m\"\u001b[39m\n\u001b[0;32m    281\u001b[0m         \u001b[38;5;124m\"\u001b[39m\u001b[38;5;124myou can use builtins\u001b[39m\u001b[38;5;124m'\u001b[39m\u001b[38;5;124m open.\u001b[39m\u001b[38;5;124m\"\u001b[39m\n\u001b[0;32m    282\u001b[0m     )\n\u001b[1;32m--> 284\u001b[0m \u001b[38;5;28;01mreturn\u001b[39;00m \u001b[43mio_open\u001b[49m\u001b[43m(\u001b[49m\u001b[43mfile\u001b[49m\u001b[43m,\u001b[49m\u001b[43m \u001b[49m\u001b[38;5;241;43m*\u001b[39;49m\u001b[43margs\u001b[49m\u001b[43m,\u001b[49m\u001b[43m \u001b[49m\u001b[38;5;241;43m*\u001b[39;49m\u001b[38;5;241;43m*\u001b[39;49m\u001b[43mkwargs\u001b[49m\u001b[43m)\u001b[49m\n",
      "\u001b[1;31mFileNotFoundError\u001b[0m: [Errno 2] No such file or directory: 'currencies.txt'"
     ]
    }
   ],
   "source": [
    "print(curconv('EUR', 100))\n"
   ]
  },
  {
   "cell_type": "code",
   "execution_count": 8,
   "id": "1dc79b64",
   "metadata": {},
   "outputs": [
    {
     "ename": "FileNotFoundError",
     "evalue": "[Errno 2] No such file or directory: 'currencies.txt'",
     "output_type": "error",
     "traceback": [
      "\u001b[1;31m---------------------------------------------------------------------------\u001b[0m",
      "\u001b[1;31mFileNotFoundError\u001b[0m                         Traceback (most recent call last)",
      "Cell \u001b[1;32mIn[8], line 1\u001b[0m\n\u001b[1;32m----> 1\u001b[0m \u001b[38;5;28mprint\u001b[39m(\u001b[43mcurconv\u001b[49m\u001b[43m(\u001b[49m\u001b[38;5;124;43m'\u001b[39;49m\u001b[38;5;124;43mJPY\u001b[39;49m\u001b[38;5;124;43m'\u001b[39;49m\u001b[43m,\u001b[49m\u001b[43m \u001b[49m\u001b[38;5;241;43m100\u001b[39;49m\u001b[43m)\u001b[49m)\n",
      "Cell \u001b[1;32mIn[6], line 4\u001b[0m, in \u001b[0;36mcurconv\u001b[1;34m(currency, amount)\u001b[0m\n\u001b[0;32m      2\u001b[0m \u001b[38;5;28;01mdef\u001b[39;00m \u001b[38;5;21mcurconv\u001b[39m(currency, amount):\n\u001b[0;32m      3\u001b[0m     rates \u001b[38;5;241m=\u001b[39m {}\n\u001b[1;32m----> 4\u001b[0m     \u001b[38;5;28;01mwith\u001b[39;00m \u001b[38;5;28;43mopen\u001b[39;49m\u001b[43m(\u001b[49m\u001b[38;5;124;43m'\u001b[39;49m\u001b[38;5;124;43mcurrencies.txt\u001b[39;49m\u001b[38;5;124;43m'\u001b[39;49m\u001b[43m,\u001b[49m\u001b[43m \u001b[49m\u001b[38;5;124;43m'\u001b[39;49m\u001b[38;5;124;43mr\u001b[39;49m\u001b[38;5;124;43m'\u001b[39;49m\u001b[43m)\u001b[49m \u001b[38;5;28;01mas\u001b[39;00m file:\n\u001b[0;32m      5\u001b[0m         \u001b[38;5;28;01mfor\u001b[39;00m line \u001b[38;5;129;01min\u001b[39;00m file:\n\u001b[0;32m      6\u001b[0m             code, rate, _ \u001b[38;5;241m=\u001b[39m line\u001b[38;5;241m.\u001b[39msplit()\n",
      "File \u001b[1;32mc:\\program files\\python38\\lib\\site-packages\\IPython\\core\\interactiveshell.py:284\u001b[0m, in \u001b[0;36m_modified_open\u001b[1;34m(file, *args, **kwargs)\u001b[0m\n\u001b[0;32m    277\u001b[0m \u001b[38;5;28;01mif\u001b[39;00m file \u001b[38;5;129;01min\u001b[39;00m {\u001b[38;5;241m0\u001b[39m, \u001b[38;5;241m1\u001b[39m, \u001b[38;5;241m2\u001b[39m}:\n\u001b[0;32m    278\u001b[0m     \u001b[38;5;28;01mraise\u001b[39;00m \u001b[38;5;167;01mValueError\u001b[39;00m(\n\u001b[0;32m    279\u001b[0m         \u001b[38;5;124mf\u001b[39m\u001b[38;5;124m\"\u001b[39m\u001b[38;5;124mIPython won\u001b[39m\u001b[38;5;124m'\u001b[39m\u001b[38;5;124mt let you open fd=\u001b[39m\u001b[38;5;132;01m{\u001b[39;00mfile\u001b[38;5;132;01m}\u001b[39;00m\u001b[38;5;124m by default \u001b[39m\u001b[38;5;124m\"\u001b[39m\n\u001b[0;32m    280\u001b[0m         \u001b[38;5;124m\"\u001b[39m\u001b[38;5;124mas it is likely to crash IPython. If you know what you are doing, \u001b[39m\u001b[38;5;124m\"\u001b[39m\n\u001b[0;32m    281\u001b[0m         \u001b[38;5;124m\"\u001b[39m\u001b[38;5;124myou can use builtins\u001b[39m\u001b[38;5;124m'\u001b[39m\u001b[38;5;124m open.\u001b[39m\u001b[38;5;124m\"\u001b[39m\n\u001b[0;32m    282\u001b[0m     )\n\u001b[1;32m--> 284\u001b[0m \u001b[38;5;28;01mreturn\u001b[39;00m \u001b[43mio_open\u001b[49m\u001b[43m(\u001b[49m\u001b[43mfile\u001b[49m\u001b[43m,\u001b[49m\u001b[43m \u001b[49m\u001b[38;5;241;43m*\u001b[39;49m\u001b[43margs\u001b[49m\u001b[43m,\u001b[49m\u001b[43m \u001b[49m\u001b[38;5;241;43m*\u001b[39;49m\u001b[38;5;241;43m*\u001b[39;49m\u001b[43mkwargs\u001b[49m\u001b[43m)\u001b[49m\n",
      "\u001b[1;31mFileNotFoundError\u001b[0m: [Errno 2] No such file or directory: 'currencies.txt'"
     ]
    }
   ],
   "source": [
    "print(curconv('JPY', 100))"
   ]
  },
  {
   "cell_type": "markdown",
   "id": "457fc5f9",
   "metadata": {},
   "source": [
    "Question #9\n",
    "\n",
    "Here are the types of exceptions that each of the given scenarios would cause:\n",
    "\n",
    "Trying to add incompatible variables, as in adding 6 + 'a': TypeError\n",
    "This will cause a TypeError because you are trying to perform addition between an integer (6) and a string ('a'), which are incompatible types for addition.\n",
    "\n",
    "Referring to the 12th item of a list that has only 10 items: IndexError\n",
    "This will cause an IndexError because you are trying to access an index (12) that is out of the range of the list. Since the list has only 10 items, the valid indexes range from 0 to 9.\n",
    "\n",
    "Using a value that is out of range for a function's input, such as calling math.sqrt(-1.0): ValueError\n",
    "This will cause a ValueError because the math.sqrt() function does not accept negative numbers as input. It is designed to calculate the square root of non-negative values.\n",
    "\n",
    "Using an undeclared variable, such as print(x) when x has not been defined: NameError\n",
    "This will cause a NameError because the variable 'x' has not been declared or assigned a value before using it. Python will raise an error when trying to access an undefined variable.\n",
    "\n",
    "Trying to open a file that does not exist, such as mistyping the file name or looking in the wrong directory: FileNotFoundError\n",
    "This will cause a FileNotFoundError if the file you are trying to open does not exist in the specified location. Python will raise an error indicating that the file could not be found."
   ]
  },
  {
   "cell_type": "code",
   "execution_count": 9,
   "id": "29ef045f",
   "metadata": {},
   "outputs": [],
   "source": [
    "# Question #10\n",
    "\n",
    "def frequencies(text):\n",
    "    letters = 'abcdefghijklmnopqrstuvwxyz'\n",
    "    freq_list = [0] * 26  # Initialize a list of 26 zeros for each letter\n",
    "\n",
    "    for char in text.lower():\n",
    "        if char in letters:\n",
    "            index = letters.index(char)\n",
    "            freq_list[index] += 1\n",
    "\n",
    "    return freq_list"
   ]
  },
  {
   "cell_type": "code",
   "execution_count": 12,
   "id": "c69110cd",
   "metadata": {},
   "outputs": [
    {
     "name": "stdout",
     "output_type": "stream",
     "text": [
      "[1, 1, 1, 3, 5, 1, 1, 2, 1, 0, 1, 0, 1, 2, 4, 0, 1, 2, 0, 3, 1, 0, 1, 1, 0, 0]\n"
     ]
    }
   ],
   "source": [
    "print(frequencies('The quick red fox got bored and went home.'))"
   ]
  },
  {
   "cell_type": "code",
   "execution_count": 13,
   "id": "79ff247a",
   "metadata": {},
   "outputs": [
    {
     "name": "stdout",
     "output_type": "stream",
     "text": [
      "[1, 0, 0, 0, 1, 0, 0, 0, 0, 0, 0, 1, 0, 0, 0, 2, 0, 0, 0, 0, 0, 0, 0, 0, 0, 0]\n"
     ]
    }
   ],
   "source": [
    "print(frequencies('apple'))"
   ]
  }
 ],
 "metadata": {
  "kernelspec": {
   "display_name": ".NET (C#)",
   "language": "C#",
   "name": ".net-csharp"
  },
  "language_info": {
   "file_extension": ".cs",
   "mimetype": "text/x-csharp",
   "name": "C#",
   "pygments_lexer": "csharp",
   "version": "11.0"
  }
 },
 "nbformat": 4,
 "nbformat_minor": 5
}
